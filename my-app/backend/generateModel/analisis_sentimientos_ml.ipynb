{
  "nbformat": 4,
  "nbformat_minor": 0,
  "metadata": {
    "colab": {
      "provenance": []
    },
    "kernelspec": {
      "name": "python3",
      "display_name": "Python 3"
    },
    "language_info": {
      "name": "python"
    }
  },
  "cells": [
    {
      "cell_type": "markdown",
      "source": [
        "# 1. Preparación del entorno en Google Colab"
      ],
      "metadata": {
        "id": "jgyFp4sBvT9G"
      }
    },
    {
      "cell_type": "code",
      "execution_count": 3,
      "metadata": {
        "colab": {
          "base_uri": "https://localhost:8080/"
        },
        "id": "N8UczFJGAvXl",
        "outputId": "b26a65d6-8744-4075-8178-d3a36961d499"
      },
      "outputs": [
        {
          "output_type": "stream",
          "name": "stdout",
          "text": [
            "Requirement already satisfied: scikit-learn in /usr/local/lib/python3.11/dist-packages (1.6.1)\n",
            "Requirement already satisfied: pandas in /usr/local/lib/python3.11/dist-packages (2.2.2)\n",
            "Requirement already satisfied: kagglehub in /usr/local/lib/python3.11/dist-packages (0.3.11)\n",
            "Requirement already satisfied: numpy>=1.19.5 in /usr/local/lib/python3.11/dist-packages (from scikit-learn) (2.0.2)\n",
            "Requirement already satisfied: scipy>=1.6.0 in /usr/local/lib/python3.11/dist-packages (from scikit-learn) (1.14.1)\n",
            "Requirement already satisfied: joblib>=1.2.0 in /usr/local/lib/python3.11/dist-packages (from scikit-learn) (1.4.2)\n",
            "Requirement already satisfied: threadpoolctl>=3.1.0 in /usr/local/lib/python3.11/dist-packages (from scikit-learn) (3.6.0)\n",
            "Requirement already satisfied: python-dateutil>=2.8.2 in /usr/local/lib/python3.11/dist-packages (from pandas) (2.8.2)\n",
            "Requirement already satisfied: pytz>=2020.1 in /usr/local/lib/python3.11/dist-packages (from pandas) (2025.2)\n",
            "Requirement already satisfied: tzdata>=2022.7 in /usr/local/lib/python3.11/dist-packages (from pandas) (2025.2)\n",
            "Requirement already satisfied: packaging in /usr/local/lib/python3.11/dist-packages (from kagglehub) (24.2)\n",
            "Requirement already satisfied: pyyaml in /usr/local/lib/python3.11/dist-packages (from kagglehub) (6.0.2)\n",
            "Requirement already satisfied: requests in /usr/local/lib/python3.11/dist-packages (from kagglehub) (2.32.3)\n",
            "Requirement already satisfied: tqdm in /usr/local/lib/python3.11/dist-packages (from kagglehub) (4.67.1)\n",
            "Requirement already satisfied: six>=1.5 in /usr/local/lib/python3.11/dist-packages (from python-dateutil>=2.8.2->pandas) (1.17.0)\n",
            "Requirement already satisfied: charset-normalizer<4,>=2 in /usr/local/lib/python3.11/dist-packages (from requests->kagglehub) (3.4.1)\n",
            "Requirement already satisfied: idna<4,>=2.5 in /usr/local/lib/python3.11/dist-packages (from requests->kagglehub) (3.10)\n",
            "Requirement already satisfied: urllib3<3,>=1.21.1 in /usr/local/lib/python3.11/dist-packages (from requests->kagglehub) (2.3.0)\n",
            "Requirement already satisfied: certifi>=2017.4.17 in /usr/local/lib/python3.11/dist-packages (from requests->kagglehub) (2025.1.31)\n"
          ]
        }
      ],
      "source": [
        "# Instalación de dependencias\n",
        "!pip install scikit-learn pandas kagglehub\n",
        "\n",
        "# Importar librerías\n",
        "import pandas as pd\n",
        "import numpy as np\n",
        "from sklearn.feature_extraction.text import CountVectorizer  # Para vectorización basada en conteos\n",
        "from sklearn.naive_bayes import MultinomialNB  # Modelo Naive Bayes\n",
        "from sklearn.model_selection import train_test_split  # Para dividir datos\n",
        "from sklearn.metrics import accuracy_score, precision_score, recall_score, f1_score, roc_auc_score, confusion_matrix, classification_report\n",
        "import time, os, json, re\n",
        "from pprint import pprint  # Para mostrar resultados legibles\n",
        "import kagglehub\n",
        "import nltk\n",
        "from nltk.corpus import stopwords"
      ]
    },
    {
      "cell_type": "markdown",
      "source": [
        "# 2. Cargar el dataset"
      ],
      "metadata": {
        "id": "QJ0LE2LUvcmD"
      }
    },
    {
      "cell_type": "code",
      "source": [
        "import pandas as pd\n",
        "\n",
        "# - Usamos encoding 'latin-1' por compatibilidad con el formato del CSV\n",
        "# Cargar el archivo con el delimitador correcto\n",
        "# Cargar el archivo CSV\n",
        "df = pd.read_csv('./IMDB Dataset.csv',encoding='utf-8')\n",
        "\n",
        "# Ver las primeras filas para explorar la estructura\n",
        "df.head()"
      ],
      "metadata": {
        "id": "S9XWlG0TBh1N",
        "colab": {
          "base_uri": "https://localhost:8080/",
          "height": 206
        },
        "outputId": "d4d38088-f01d-42ec-de32-a5441fffe8c5"
      },
      "execution_count": 5,
      "outputs": [
        {
          "output_type": "execute_result",
          "data": {
            "text/plain": [
              "                                              review sentiment\n",
              "0  One of the other reviewers has mentioned that ...  positive\n",
              "1  A wonderful little production. <br /><br />The...  positive\n",
              "2  I thought this was a wonderful way to spend ti...  positive\n",
              "3  Basically there's a family where a little boy ...  negative\n",
              "4  Petter Mattei's \"Love in the Time of Money\" is...  positive"
            ],
            "text/html": [
              "\n",
              "  <div id=\"df-4f182d88-59c6-44fa-b84f-4674351d6af5\" class=\"colab-df-container\">\n",
              "    <div>\n",
              "<style scoped>\n",
              "    .dataframe tbody tr th:only-of-type {\n",
              "        vertical-align: middle;\n",
              "    }\n",
              "\n",
              "    .dataframe tbody tr th {\n",
              "        vertical-align: top;\n",
              "    }\n",
              "\n",
              "    .dataframe thead th {\n",
              "        text-align: right;\n",
              "    }\n",
              "</style>\n",
              "<table border=\"1\" class=\"dataframe\">\n",
              "  <thead>\n",
              "    <tr style=\"text-align: right;\">\n",
              "      <th></th>\n",
              "      <th>review</th>\n",
              "      <th>sentiment</th>\n",
              "    </tr>\n",
              "  </thead>\n",
              "  <tbody>\n",
              "    <tr>\n",
              "      <th>0</th>\n",
              "      <td>One of the other reviewers has mentioned that ...</td>\n",
              "      <td>positive</td>\n",
              "    </tr>\n",
              "    <tr>\n",
              "      <th>1</th>\n",
              "      <td>A wonderful little production. &lt;br /&gt;&lt;br /&gt;The...</td>\n",
              "      <td>positive</td>\n",
              "    </tr>\n",
              "    <tr>\n",
              "      <th>2</th>\n",
              "      <td>I thought this was a wonderful way to spend ti...</td>\n",
              "      <td>positive</td>\n",
              "    </tr>\n",
              "    <tr>\n",
              "      <th>3</th>\n",
              "      <td>Basically there's a family where a little boy ...</td>\n",
              "      <td>negative</td>\n",
              "    </tr>\n",
              "    <tr>\n",
              "      <th>4</th>\n",
              "      <td>Petter Mattei's \"Love in the Time of Money\" is...</td>\n",
              "      <td>positive</td>\n",
              "    </tr>\n",
              "  </tbody>\n",
              "</table>\n",
              "</div>\n",
              "    <div class=\"colab-df-buttons\">\n",
              "\n",
              "  <div class=\"colab-df-container\">\n",
              "    <button class=\"colab-df-convert\" onclick=\"convertToInteractive('df-4f182d88-59c6-44fa-b84f-4674351d6af5')\"\n",
              "            title=\"Convert this dataframe to an interactive table.\"\n",
              "            style=\"display:none;\">\n",
              "\n",
              "  <svg xmlns=\"http://www.w3.org/2000/svg\" height=\"24px\" viewBox=\"0 -960 960 960\">\n",
              "    <path d=\"M120-120v-720h720v720H120Zm60-500h600v-160H180v160Zm220 220h160v-160H400v160Zm0 220h160v-160H400v160ZM180-400h160v-160H180v160Zm440 0h160v-160H620v160ZM180-180h160v-160H180v160Zm440 0h160v-160H620v160Z\"/>\n",
              "  </svg>\n",
              "    </button>\n",
              "\n",
              "  <style>\n",
              "    .colab-df-container {\n",
              "      display:flex;\n",
              "      gap: 12px;\n",
              "    }\n",
              "\n",
              "    .colab-df-convert {\n",
              "      background-color: #E8F0FE;\n",
              "      border: none;\n",
              "      border-radius: 50%;\n",
              "      cursor: pointer;\n",
              "      display: none;\n",
              "      fill: #1967D2;\n",
              "      height: 32px;\n",
              "      padding: 0 0 0 0;\n",
              "      width: 32px;\n",
              "    }\n",
              "\n",
              "    .colab-df-convert:hover {\n",
              "      background-color: #E2EBFA;\n",
              "      box-shadow: 0px 1px 2px rgba(60, 64, 67, 0.3), 0px 1px 3px 1px rgba(60, 64, 67, 0.15);\n",
              "      fill: #174EA6;\n",
              "    }\n",
              "\n",
              "    .colab-df-buttons div {\n",
              "      margin-bottom: 4px;\n",
              "    }\n",
              "\n",
              "    [theme=dark] .colab-df-convert {\n",
              "      background-color: #3B4455;\n",
              "      fill: #D2E3FC;\n",
              "    }\n",
              "\n",
              "    [theme=dark] .colab-df-convert:hover {\n",
              "      background-color: #434B5C;\n",
              "      box-shadow: 0px 1px 3px 1px rgba(0, 0, 0, 0.15);\n",
              "      filter: drop-shadow(0px 1px 2px rgba(0, 0, 0, 0.3));\n",
              "      fill: #FFFFFF;\n",
              "    }\n",
              "  </style>\n",
              "\n",
              "    <script>\n",
              "      const buttonEl =\n",
              "        document.querySelector('#df-4f182d88-59c6-44fa-b84f-4674351d6af5 button.colab-df-convert');\n",
              "      buttonEl.style.display =\n",
              "        google.colab.kernel.accessAllowed ? 'block' : 'none';\n",
              "\n",
              "      async function convertToInteractive(key) {\n",
              "        const element = document.querySelector('#df-4f182d88-59c6-44fa-b84f-4674351d6af5');\n",
              "        const dataTable =\n",
              "          await google.colab.kernel.invokeFunction('convertToInteractive',\n",
              "                                                    [key], {});\n",
              "        if (!dataTable) return;\n",
              "\n",
              "        const docLinkHtml = 'Like what you see? Visit the ' +\n",
              "          '<a target=\"_blank\" href=https://colab.research.google.com/notebooks/data_table.ipynb>data table notebook</a>'\n",
              "          + ' to learn more about interactive tables.';\n",
              "        element.innerHTML = '';\n",
              "        dataTable['output_type'] = 'display_data';\n",
              "        await google.colab.output.renderOutput(dataTable, element);\n",
              "        const docLink = document.createElement('div');\n",
              "        docLink.innerHTML = docLinkHtml;\n",
              "        element.appendChild(docLink);\n",
              "      }\n",
              "    </script>\n",
              "  </div>\n",
              "\n",
              "\n",
              "<div id=\"df-b506260d-6b34-48eb-a5fc-b31e65a952a1\">\n",
              "  <button class=\"colab-df-quickchart\" onclick=\"quickchart('df-b506260d-6b34-48eb-a5fc-b31e65a952a1')\"\n",
              "            title=\"Suggest charts\"\n",
              "            style=\"display:none;\">\n",
              "\n",
              "<svg xmlns=\"http://www.w3.org/2000/svg\" height=\"24px\"viewBox=\"0 0 24 24\"\n",
              "     width=\"24px\">\n",
              "    <g>\n",
              "        <path d=\"M19 3H5c-1.1 0-2 .9-2 2v14c0 1.1.9 2 2 2h14c1.1 0 2-.9 2-2V5c0-1.1-.9-2-2-2zM9 17H7v-7h2v7zm4 0h-2V7h2v10zm4 0h-2v-4h2v4z\"/>\n",
              "    </g>\n",
              "</svg>\n",
              "  </button>\n",
              "\n",
              "<style>\n",
              "  .colab-df-quickchart {\n",
              "      --bg-color: #E8F0FE;\n",
              "      --fill-color: #1967D2;\n",
              "      --hover-bg-color: #E2EBFA;\n",
              "      --hover-fill-color: #174EA6;\n",
              "      --disabled-fill-color: #AAA;\n",
              "      --disabled-bg-color: #DDD;\n",
              "  }\n",
              "\n",
              "  [theme=dark] .colab-df-quickchart {\n",
              "      --bg-color: #3B4455;\n",
              "      --fill-color: #D2E3FC;\n",
              "      --hover-bg-color: #434B5C;\n",
              "      --hover-fill-color: #FFFFFF;\n",
              "      --disabled-bg-color: #3B4455;\n",
              "      --disabled-fill-color: #666;\n",
              "  }\n",
              "\n",
              "  .colab-df-quickchart {\n",
              "    background-color: var(--bg-color);\n",
              "    border: none;\n",
              "    border-radius: 50%;\n",
              "    cursor: pointer;\n",
              "    display: none;\n",
              "    fill: var(--fill-color);\n",
              "    height: 32px;\n",
              "    padding: 0;\n",
              "    width: 32px;\n",
              "  }\n",
              "\n",
              "  .colab-df-quickchart:hover {\n",
              "    background-color: var(--hover-bg-color);\n",
              "    box-shadow: 0 1px 2px rgba(60, 64, 67, 0.3), 0 1px 3px 1px rgba(60, 64, 67, 0.15);\n",
              "    fill: var(--button-hover-fill-color);\n",
              "  }\n",
              "\n",
              "  .colab-df-quickchart-complete:disabled,\n",
              "  .colab-df-quickchart-complete:disabled:hover {\n",
              "    background-color: var(--disabled-bg-color);\n",
              "    fill: var(--disabled-fill-color);\n",
              "    box-shadow: none;\n",
              "  }\n",
              "\n",
              "  .colab-df-spinner {\n",
              "    border: 2px solid var(--fill-color);\n",
              "    border-color: transparent;\n",
              "    border-bottom-color: var(--fill-color);\n",
              "    animation:\n",
              "      spin 1s steps(1) infinite;\n",
              "  }\n",
              "\n",
              "  @keyframes spin {\n",
              "    0% {\n",
              "      border-color: transparent;\n",
              "      border-bottom-color: var(--fill-color);\n",
              "      border-left-color: var(--fill-color);\n",
              "    }\n",
              "    20% {\n",
              "      border-color: transparent;\n",
              "      border-left-color: var(--fill-color);\n",
              "      border-top-color: var(--fill-color);\n",
              "    }\n",
              "    30% {\n",
              "      border-color: transparent;\n",
              "      border-left-color: var(--fill-color);\n",
              "      border-top-color: var(--fill-color);\n",
              "      border-right-color: var(--fill-color);\n",
              "    }\n",
              "    40% {\n",
              "      border-color: transparent;\n",
              "      border-right-color: var(--fill-color);\n",
              "      border-top-color: var(--fill-color);\n",
              "    }\n",
              "    60% {\n",
              "      border-color: transparent;\n",
              "      border-right-color: var(--fill-color);\n",
              "    }\n",
              "    80% {\n",
              "      border-color: transparent;\n",
              "      border-right-color: var(--fill-color);\n",
              "      border-bottom-color: var(--fill-color);\n",
              "    }\n",
              "    90% {\n",
              "      border-color: transparent;\n",
              "      border-bottom-color: var(--fill-color);\n",
              "    }\n",
              "  }\n",
              "</style>\n",
              "\n",
              "  <script>\n",
              "    async function quickchart(key) {\n",
              "      const quickchartButtonEl =\n",
              "        document.querySelector('#' + key + ' button');\n",
              "      quickchartButtonEl.disabled = true;  // To prevent multiple clicks.\n",
              "      quickchartButtonEl.classList.add('colab-df-spinner');\n",
              "      try {\n",
              "        const charts = await google.colab.kernel.invokeFunction(\n",
              "            'suggestCharts', [key], {});\n",
              "      } catch (error) {\n",
              "        console.error('Error during call to suggestCharts:', error);\n",
              "      }\n",
              "      quickchartButtonEl.classList.remove('colab-df-spinner');\n",
              "      quickchartButtonEl.classList.add('colab-df-quickchart-complete');\n",
              "    }\n",
              "    (() => {\n",
              "      let quickchartButtonEl =\n",
              "        document.querySelector('#df-b506260d-6b34-48eb-a5fc-b31e65a952a1 button');\n",
              "      quickchartButtonEl.style.display =\n",
              "        google.colab.kernel.accessAllowed ? 'block' : 'none';\n",
              "    })();\n",
              "  </script>\n",
              "</div>\n",
              "\n",
              "    </div>\n",
              "  </div>\n"
            ],
            "application/vnd.google.colaboratory.intrinsic+json": {
              "type": "dataframe",
              "variable_name": "df",
              "summary": "{\n  \"name\": \"df\",\n  \"rows\": 50000,\n  \"fields\": [\n    {\n      \"column\": \"review\",\n      \"properties\": {\n        \"dtype\": \"string\",\n        \"num_unique_values\": 49582,\n        \"samples\": [\n          \"\\\"Soul Plane\\\" is a horrible attempt at comedy that only should appeal people with thick skulls, bloodshot eyes and furry pawns. <br /><br />The plot is not only incoherent but also non-existent, acting is mostly sub sub-par with a gang of highly moronic and dreadful characters thrown in for bad measure, jokes are often spotted miles ahead and almost never even a bit amusing. This movie lacks any structure and is full of racial stereotypes that must have seemed old even in the fifties, the only thing it really has going for it is some pretty ladies, but really, if you want that you can rent something from the \\\"Adult\\\" section. OK?<br /><br />I can hardly see anything here to recommend since you'll probably have a lot a better and productive time chasing rats with a sledgehammer or inventing waterproof teabags or whatever.<br /><br />2/10\",\n          \"Guest from the Future tells a fascinating story of time travel, friendship, battle of good and evil -- all with a small budget, child actors, and few special effects. Something for Spielberg and Lucas to learn from. ;) A sixth-grader Kolya \\\"Nick\\\" Gerasimov finds a time machine in the basement of a decrepit building and travels 100 years into the future. He discovers a near-perfect, utopian society where robots play guitars and write poetry, everyone is kind to each other and people enjoy everything technology has to offer. Alice is the daughter of a prominent scientist who invented a device called Mielophone that allows to read minds of humans and animals. The device can be put to both good and bad use, depending on whose hands it falls into. When two evil space pirates from Saturn who want to rule the universe attempt to steal Mielophone, it falls into the hands of 20th century school boy Nick. With the pirates hot on his tracks, he travels back to his time, followed by the pirates, and Alice. Chaos, confusion and funny situations follow as the luckless pirates try to blend in with the earthlings. Alice enrolls in the same school Nick goes to and demonstrates superhuman abilities in PE class. The catch is, Alice doesn't know what Nick looks like, while the pirates do. Also, the pirates are able to change their appearance and turn literally into anyone. (Hmm, I wonder if this is where James Cameron got the idea for Terminator...) Who gets to Nick -- and Mielophone -- first? Excellent plot, non-stop adventures, and great soundtrack. I wish Hollywood made kid movies like this one...\",\n          \"\\\"National Treasure\\\" (2004) is a thoroughly misguided hodge-podge of plot entanglements that borrow from nearly every cloak and dagger government conspiracy clich\\u00e9 that has ever been written. The film stars Nicholas Cage as Benjamin Franklin Gates (how precious is that, I ask you?); a seemingly normal fellow who, for no other reason than being of a lineage of like-minded misguided fortune hunters, decides to steal a 'national treasure' that has been hidden by the United States founding fathers. After a bit of subtext and background that plays laughably (unintentionally) like Indiana Jones meets The Patriot, the film degenerates into one misguided whimsy after another \\u0096 attempting to create a 'Stanley Goodspeed' regurgitation of Nicholas Cage and launch the whole convoluted mess forward with a series of high octane, but disconnected misadventures.<br /><br />The relevancy and logic to having George Washington and his motley crew of patriots burying a king's ransom someplace on native soil, and then, going through the meticulous plan of leaving clues scattered throughout U.S. currency art work, is something that director Jon Turteltaub never quite gets around to explaining. Couldn't Washington found better usage for such wealth during the start up of the country? Hence, we are left with a mystery built on top of an enigma that is already on shaky ground by the time Ben appoints himself the new custodian of this untold wealth. Ben's intentions are noble \\u0096 if confusing. He's set on protecting the treasure. For who and when?\\u0085your guess is as good as mine.<br /><br />But there are a few problems with Ben's crusade. First up, his friend, Ian Holmes (Sean Bean) decides that he can't wait for Ben to make up his mind about stealing the Declaration of Independence from the National Archives (oh, yeah \\u0096 brilliant idea!). Presumably, the back of that famous document holds the secret answer to the ultimate fortune. So Ian tries to kill Ben. The assassination attempt is, of course, unsuccessful, if overly melodramatic. It also affords Ben the opportunity to pick up, and pick on, the very sultry curator of the archives, Abigail Chase (Diane Kruger). She thinks Ben is clearly a nut \\u0096 at least at the beginning. But true to action/romance form, Abby's resolve melts quicker than you can say, \\\"is that the Hope Diamond?\\\" The film moves into full X-File-ish mode, as the FBI, mistakenly believing that Ben is behind the theft, retaliate in various benign ways that lead to a multi-layering of action sequences reminiscent of Mission Impossible meets The Fugitive. Honestly, don't those guys ever get 'intelligence' information that is correct? In the final analysis, \\\"National Treasure\\\" isn't great film making, so much as it's a patchwork rehash of tired old bits from other movies, woven together from scraps, the likes of which would make IL' Betsy Ross blush.<br /><br />The Buena Vista DVD delivers a far more generous treatment than this film is deserving of. The anamorphic widescreen picture exhibits a very smooth and finely detailed image with very rich colors, natural flesh tones, solid blacks and clean whites. The stylized image is also free of blemishes and digital enhancements. The audio is 5.1 and delivers a nice sonic boom to your side and rear speakers with intensity and realism. Extras include a host of promotional junket material that is rather deep and over the top in its explanation of how and why this film was made. If only, as an audience, we had had more clarification as to why Ben and co. were chasing after an illusive treasure, this might have been one good flick. Extras conclude with the theatrical trailer, audio commentary and deleted scenes. Not for the faint-hearted \\u0096 just the thick-headed.\"\n        ],\n        \"semantic_type\": \"\",\n        \"description\": \"\"\n      }\n    },\n    {\n      \"column\": \"sentiment\",\n      \"properties\": {\n        \"dtype\": \"category\",\n        \"num_unique_values\": 2,\n        \"samples\": [\n          \"negative\",\n          \"positive\"\n        ],\n        \"semantic_type\": \"\",\n        \"description\": \"\"\n      }\n    }\n  ]\n}"
            }
          },
          "metadata": {},
          "execution_count": 5
        }
      ]
    },
    {
      "cell_type": "markdown",
      "source": [
        "# 3. Preprocesamiento de datos"
      ],
      "metadata": {
        "id": "9oJUiRRbviCc"
      }
    },
    {
      "cell_type": "code",
      "source": [
        "# Comprobamos si hay nulos\n",
        "df.info()"
      ],
      "metadata": {
        "colab": {
          "base_uri": "https://localhost:8080/"
        },
        "id": "Djym3C00DlzO",
        "outputId": "e6de897c-7360-4534-9282-171862482388"
      },
      "execution_count": 6,
      "outputs": [
        {
          "output_type": "stream",
          "name": "stdout",
          "text": [
            "<class 'pandas.core.frame.DataFrame'>\n",
            "RangeIndex: 50000 entries, 0 to 49999\n",
            "Data columns (total 2 columns):\n",
            " #   Column     Non-Null Count  Dtype \n",
            "---  ------     --------------  ----- \n",
            " 0   review     50000 non-null  object\n",
            " 1   sentiment  50000 non-null  object\n",
            "dtypes: object(2)\n",
            "memory usage: 781.4+ KB\n"
          ]
        }
      ]
    },
    {
      "cell_type": "code",
      "source": [
        "# Guardamos df base antes de empezar a hacer cambios\n",
        "df_base= df.copy()"
      ],
      "metadata": {
        "id": "aAV_nKPlGSmP"
      },
      "execution_count": 7,
      "outputs": []
    },
    {
      "cell_type": "code",
      "source": [
        "import re\n",
        "import nltk\n",
        "from nltk.corpus import stopwords\n",
        "\n",
        "# Descargar recursos de NLTK (solo la primera vez)\n",
        "nltk.download('stopwords')\n",
        "\n",
        "# Diccionario para reemplazar tildes\n",
        "tildes = str.maketrans('áéíóúü', 'aeiouu')\n",
        "\n",
        "# Función de limpieza mejorada para un solo texto\n",
        "def limpiar_texto(text):\n",
        "    # Convertir a minúsculas, eliminar saltos de línea, URLs, menciones, hashtags y puntuación\n",
        "    text = re.sub(r'http\\S+|@\\S+|#\\S+|[^\\w\\s]', '', text.lower())\n",
        "    # Eliminar números\n",
        "    text = re.sub(r'\\d+', '', text)\n",
        "    # Reemplazar tildes\n",
        "    text = text.translate(tildes)\n",
        "    # Eliminar espacios extra\n",
        "    return text.strip()\n",
        "\n",
        "# Eliminar stopwords (en español o inglés según se necesite)\n",
        "def eliminar_stopwords(text, language='english'):\n",
        "    stop_words = set(stopwords.words(language))\n",
        "    words = text.split()\n",
        "    cleaned_text = ' '.join([word for word in words if word not in stop_words])\n",
        "    return cleaned_text\n",
        "\n",
        "# Aplicar limpieza y eliminación de stopwords\n",
        "df[\"review\"] = df[\"review\"].apply(lambda x: eliminar_stopwords(limpiar_texto(x), language='english'))\n",
        "\n",
        "print(\"Dataset con texto limpio y sin stopwords...\")"
      ],
      "metadata": {
        "colab": {
          "base_uri": "https://localhost:8080/"
        },
        "id": "NPMpug5ZGUzK",
        "outputId": "97749c8a-3843-4e80-a213-5645e0103602"
      },
      "execution_count": 8,
      "outputs": [
        {
          "output_type": "stream",
          "name": "stderr",
          "text": [
            "[nltk_data] Downloading package stopwords to /root/nltk_data...\n",
            "[nltk_data]   Unzipping corpora/stopwords.zip.\n"
          ]
        },
        {
          "output_type": "stream",
          "name": "stdout",
          "text": [
            "Dataset con texto limpio y sin stopwords...\n"
          ]
        }
      ]
    },
    {
      "cell_type": "markdown",
      "source": [
        "# 4. División de datos en entrenamiento y prueba"
      ],
      "metadata": {
        "id": "zXsGPjXfwO-3"
      }
    },
    {
      "cell_type": "code",
      "source": [
        "# Reducir a 10,000 para rapidez\n",
        "df = df.sample(10000, random_state=42)\n",
        "X = df[\"review\"]  # Textos\n",
        "y = df[\"sentiment\"]  # Etiquetas\n",
        "print(f\"Dataset listo: {df.shape} (filas, columnas)\")"
      ],
      "metadata": {
        "colab": {
          "base_uri": "https://localhost:8080/"
        },
        "id": "ZJ2CWAnZGbS7",
        "outputId": "a52ec447-b3c9-4e2b-bfd3-1c8a23832bfa"
      },
      "execution_count": 9,
      "outputs": [
        {
          "output_type": "stream",
          "name": "stdout",
          "text": [
            "Dataset listo: (10000, 2) (filas, columnas)\n"
          ]
        }
      ]
    },
    {
      "cell_type": "code",
      "source": [
        "df#Comprobemos si el texto está limpio"
      ],
      "metadata": {
        "colab": {
          "base_uri": "https://localhost:8080/",
          "height": 423
        },
        "id": "5vYxmJMnGgbM",
        "outputId": "c973443b-dead-4886-f4a4-b46df366acb5"
      },
      "execution_count": 10,
      "outputs": [
        {
          "output_type": "execute_result",
          "data": {
            "text/plain": [
              "                                                  review sentiment\n",
              "33553  really liked summerslam due look arena curtain...  positive\n",
              "9427   many television shows appeal quite many differ...  positive\n",
              "199    film quickly gets major chase scene ever incre...  negative\n",
              "12447  jane austen would definitely approve onebr br ...  positive\n",
              "39489  expectations somewhat high went see movie thou...  negative\n",
              "...                                                  ...       ...\n",
              "28567  although casper van dien michael rooker genera...  negative\n",
              "25079  liked movie wasnt really sure started watching...  positive\n",
              "18707  yes nonsingaporeans cant see whats big deal fi...  positive\n",
              "15200  far films go likable enough entertaining chara...  negative\n",
              "5857   saw anatomy years ago dubbed friends house don...  positive\n",
              "\n",
              "[10000 rows x 2 columns]"
            ],
            "text/html": [
              "\n",
              "  <div id=\"df-8ceba6b6-753f-4dad-9c8d-b24c841af574\" class=\"colab-df-container\">\n",
              "    <div>\n",
              "<style scoped>\n",
              "    .dataframe tbody tr th:only-of-type {\n",
              "        vertical-align: middle;\n",
              "    }\n",
              "\n",
              "    .dataframe tbody tr th {\n",
              "        vertical-align: top;\n",
              "    }\n",
              "\n",
              "    .dataframe thead th {\n",
              "        text-align: right;\n",
              "    }\n",
              "</style>\n",
              "<table border=\"1\" class=\"dataframe\">\n",
              "  <thead>\n",
              "    <tr style=\"text-align: right;\">\n",
              "      <th></th>\n",
              "      <th>review</th>\n",
              "      <th>sentiment</th>\n",
              "    </tr>\n",
              "  </thead>\n",
              "  <tbody>\n",
              "    <tr>\n",
              "      <th>33553</th>\n",
              "      <td>really liked summerslam due look arena curtain...</td>\n",
              "      <td>positive</td>\n",
              "    </tr>\n",
              "    <tr>\n",
              "      <th>9427</th>\n",
              "      <td>many television shows appeal quite many differ...</td>\n",
              "      <td>positive</td>\n",
              "    </tr>\n",
              "    <tr>\n",
              "      <th>199</th>\n",
              "      <td>film quickly gets major chase scene ever incre...</td>\n",
              "      <td>negative</td>\n",
              "    </tr>\n",
              "    <tr>\n",
              "      <th>12447</th>\n",
              "      <td>jane austen would definitely approve onebr br ...</td>\n",
              "      <td>positive</td>\n",
              "    </tr>\n",
              "    <tr>\n",
              "      <th>39489</th>\n",
              "      <td>expectations somewhat high went see movie thou...</td>\n",
              "      <td>negative</td>\n",
              "    </tr>\n",
              "    <tr>\n",
              "      <th>...</th>\n",
              "      <td>...</td>\n",
              "      <td>...</td>\n",
              "    </tr>\n",
              "    <tr>\n",
              "      <th>28567</th>\n",
              "      <td>although casper van dien michael rooker genera...</td>\n",
              "      <td>negative</td>\n",
              "    </tr>\n",
              "    <tr>\n",
              "      <th>25079</th>\n",
              "      <td>liked movie wasnt really sure started watching...</td>\n",
              "      <td>positive</td>\n",
              "    </tr>\n",
              "    <tr>\n",
              "      <th>18707</th>\n",
              "      <td>yes nonsingaporeans cant see whats big deal fi...</td>\n",
              "      <td>positive</td>\n",
              "    </tr>\n",
              "    <tr>\n",
              "      <th>15200</th>\n",
              "      <td>far films go likable enough entertaining chara...</td>\n",
              "      <td>negative</td>\n",
              "    </tr>\n",
              "    <tr>\n",
              "      <th>5857</th>\n",
              "      <td>saw anatomy years ago dubbed friends house don...</td>\n",
              "      <td>positive</td>\n",
              "    </tr>\n",
              "  </tbody>\n",
              "</table>\n",
              "<p>10000 rows × 2 columns</p>\n",
              "</div>\n",
              "    <div class=\"colab-df-buttons\">\n",
              "\n",
              "  <div class=\"colab-df-container\">\n",
              "    <button class=\"colab-df-convert\" onclick=\"convertToInteractive('df-8ceba6b6-753f-4dad-9c8d-b24c841af574')\"\n",
              "            title=\"Convert this dataframe to an interactive table.\"\n",
              "            style=\"display:none;\">\n",
              "\n",
              "  <svg xmlns=\"http://www.w3.org/2000/svg\" height=\"24px\" viewBox=\"0 -960 960 960\">\n",
              "    <path d=\"M120-120v-720h720v720H120Zm60-500h600v-160H180v160Zm220 220h160v-160H400v160Zm0 220h160v-160H400v160ZM180-400h160v-160H180v160Zm440 0h160v-160H620v160ZM180-180h160v-160H180v160Zm440 0h160v-160H620v160Z\"/>\n",
              "  </svg>\n",
              "    </button>\n",
              "\n",
              "  <style>\n",
              "    .colab-df-container {\n",
              "      display:flex;\n",
              "      gap: 12px;\n",
              "    }\n",
              "\n",
              "    .colab-df-convert {\n",
              "      background-color: #E8F0FE;\n",
              "      border: none;\n",
              "      border-radius: 50%;\n",
              "      cursor: pointer;\n",
              "      display: none;\n",
              "      fill: #1967D2;\n",
              "      height: 32px;\n",
              "      padding: 0 0 0 0;\n",
              "      width: 32px;\n",
              "    }\n",
              "\n",
              "    .colab-df-convert:hover {\n",
              "      background-color: #E2EBFA;\n",
              "      box-shadow: 0px 1px 2px rgba(60, 64, 67, 0.3), 0px 1px 3px 1px rgba(60, 64, 67, 0.15);\n",
              "      fill: #174EA6;\n",
              "    }\n",
              "\n",
              "    .colab-df-buttons div {\n",
              "      margin-bottom: 4px;\n",
              "    }\n",
              "\n",
              "    [theme=dark] .colab-df-convert {\n",
              "      background-color: #3B4455;\n",
              "      fill: #D2E3FC;\n",
              "    }\n",
              "\n",
              "    [theme=dark] .colab-df-convert:hover {\n",
              "      background-color: #434B5C;\n",
              "      box-shadow: 0px 1px 3px 1px rgba(0, 0, 0, 0.15);\n",
              "      filter: drop-shadow(0px 1px 2px rgba(0, 0, 0, 0.3));\n",
              "      fill: #FFFFFF;\n",
              "    }\n",
              "  </style>\n",
              "\n",
              "    <script>\n",
              "      const buttonEl =\n",
              "        document.querySelector('#df-8ceba6b6-753f-4dad-9c8d-b24c841af574 button.colab-df-convert');\n",
              "      buttonEl.style.display =\n",
              "        google.colab.kernel.accessAllowed ? 'block' : 'none';\n",
              "\n",
              "      async function convertToInteractive(key) {\n",
              "        const element = document.querySelector('#df-8ceba6b6-753f-4dad-9c8d-b24c841af574');\n",
              "        const dataTable =\n",
              "          await google.colab.kernel.invokeFunction('convertToInteractive',\n",
              "                                                    [key], {});\n",
              "        if (!dataTable) return;\n",
              "\n",
              "        const docLinkHtml = 'Like what you see? Visit the ' +\n",
              "          '<a target=\"_blank\" href=https://colab.research.google.com/notebooks/data_table.ipynb>data table notebook</a>'\n",
              "          + ' to learn more about interactive tables.';\n",
              "        element.innerHTML = '';\n",
              "        dataTable['output_type'] = 'display_data';\n",
              "        await google.colab.output.renderOutput(dataTable, element);\n",
              "        const docLink = document.createElement('div');\n",
              "        docLink.innerHTML = docLinkHtml;\n",
              "        element.appendChild(docLink);\n",
              "      }\n",
              "    </script>\n",
              "  </div>\n",
              "\n",
              "\n",
              "<div id=\"df-c3474d23-3766-4bf1-9f3e-dfb1fee7ef34\">\n",
              "  <button class=\"colab-df-quickchart\" onclick=\"quickchart('df-c3474d23-3766-4bf1-9f3e-dfb1fee7ef34')\"\n",
              "            title=\"Suggest charts\"\n",
              "            style=\"display:none;\">\n",
              "\n",
              "<svg xmlns=\"http://www.w3.org/2000/svg\" height=\"24px\"viewBox=\"0 0 24 24\"\n",
              "     width=\"24px\">\n",
              "    <g>\n",
              "        <path d=\"M19 3H5c-1.1 0-2 .9-2 2v14c0 1.1.9 2 2 2h14c1.1 0 2-.9 2-2V5c0-1.1-.9-2-2-2zM9 17H7v-7h2v7zm4 0h-2V7h2v10zm4 0h-2v-4h2v4z\"/>\n",
              "    </g>\n",
              "</svg>\n",
              "  </button>\n",
              "\n",
              "<style>\n",
              "  .colab-df-quickchart {\n",
              "      --bg-color: #E8F0FE;\n",
              "      --fill-color: #1967D2;\n",
              "      --hover-bg-color: #E2EBFA;\n",
              "      --hover-fill-color: #174EA6;\n",
              "      --disabled-fill-color: #AAA;\n",
              "      --disabled-bg-color: #DDD;\n",
              "  }\n",
              "\n",
              "  [theme=dark] .colab-df-quickchart {\n",
              "      --bg-color: #3B4455;\n",
              "      --fill-color: #D2E3FC;\n",
              "      --hover-bg-color: #434B5C;\n",
              "      --hover-fill-color: #FFFFFF;\n",
              "      --disabled-bg-color: #3B4455;\n",
              "      --disabled-fill-color: #666;\n",
              "  }\n",
              "\n",
              "  .colab-df-quickchart {\n",
              "    background-color: var(--bg-color);\n",
              "    border: none;\n",
              "    border-radius: 50%;\n",
              "    cursor: pointer;\n",
              "    display: none;\n",
              "    fill: var(--fill-color);\n",
              "    height: 32px;\n",
              "    padding: 0;\n",
              "    width: 32px;\n",
              "  }\n",
              "\n",
              "  .colab-df-quickchart:hover {\n",
              "    background-color: var(--hover-bg-color);\n",
              "    box-shadow: 0 1px 2px rgba(60, 64, 67, 0.3), 0 1px 3px 1px rgba(60, 64, 67, 0.15);\n",
              "    fill: var(--button-hover-fill-color);\n",
              "  }\n",
              "\n",
              "  .colab-df-quickchart-complete:disabled,\n",
              "  .colab-df-quickchart-complete:disabled:hover {\n",
              "    background-color: var(--disabled-bg-color);\n",
              "    fill: var(--disabled-fill-color);\n",
              "    box-shadow: none;\n",
              "  }\n",
              "\n",
              "  .colab-df-spinner {\n",
              "    border: 2px solid var(--fill-color);\n",
              "    border-color: transparent;\n",
              "    border-bottom-color: var(--fill-color);\n",
              "    animation:\n",
              "      spin 1s steps(1) infinite;\n",
              "  }\n",
              "\n",
              "  @keyframes spin {\n",
              "    0% {\n",
              "      border-color: transparent;\n",
              "      border-bottom-color: var(--fill-color);\n",
              "      border-left-color: var(--fill-color);\n",
              "    }\n",
              "    20% {\n",
              "      border-color: transparent;\n",
              "      border-left-color: var(--fill-color);\n",
              "      border-top-color: var(--fill-color);\n",
              "    }\n",
              "    30% {\n",
              "      border-color: transparent;\n",
              "      border-left-color: var(--fill-color);\n",
              "      border-top-color: var(--fill-color);\n",
              "      border-right-color: var(--fill-color);\n",
              "    }\n",
              "    40% {\n",
              "      border-color: transparent;\n",
              "      border-right-color: var(--fill-color);\n",
              "      border-top-color: var(--fill-color);\n",
              "    }\n",
              "    60% {\n",
              "      border-color: transparent;\n",
              "      border-right-color: var(--fill-color);\n",
              "    }\n",
              "    80% {\n",
              "      border-color: transparent;\n",
              "      border-right-color: var(--fill-color);\n",
              "      border-bottom-color: var(--fill-color);\n",
              "    }\n",
              "    90% {\n",
              "      border-color: transparent;\n",
              "      border-bottom-color: var(--fill-color);\n",
              "    }\n",
              "  }\n",
              "</style>\n",
              "\n",
              "  <script>\n",
              "    async function quickchart(key) {\n",
              "      const quickchartButtonEl =\n",
              "        document.querySelector('#' + key + ' button');\n",
              "      quickchartButtonEl.disabled = true;  // To prevent multiple clicks.\n",
              "      quickchartButtonEl.classList.add('colab-df-spinner');\n",
              "      try {\n",
              "        const charts = await google.colab.kernel.invokeFunction(\n",
              "            'suggestCharts', [key], {});\n",
              "      } catch (error) {\n",
              "        console.error('Error during call to suggestCharts:', error);\n",
              "      }\n",
              "      quickchartButtonEl.classList.remove('colab-df-spinner');\n",
              "      quickchartButtonEl.classList.add('colab-df-quickchart-complete');\n",
              "    }\n",
              "    (() => {\n",
              "      let quickchartButtonEl =\n",
              "        document.querySelector('#df-c3474d23-3766-4bf1-9f3e-dfb1fee7ef34 button');\n",
              "      quickchartButtonEl.style.display =\n",
              "        google.colab.kernel.accessAllowed ? 'block' : 'none';\n",
              "    })();\n",
              "  </script>\n",
              "</div>\n",
              "\n",
              "  <div id=\"id_1eea4986-d372-4fdf-bbf0-51552ede09a9\">\n",
              "    <style>\n",
              "      .colab-df-generate {\n",
              "        background-color: #E8F0FE;\n",
              "        border: none;\n",
              "        border-radius: 50%;\n",
              "        cursor: pointer;\n",
              "        display: none;\n",
              "        fill: #1967D2;\n",
              "        height: 32px;\n",
              "        padding: 0 0 0 0;\n",
              "        width: 32px;\n",
              "      }\n",
              "\n",
              "      .colab-df-generate:hover {\n",
              "        background-color: #E2EBFA;\n",
              "        box-shadow: 0px 1px 2px rgba(60, 64, 67, 0.3), 0px 1px 3px 1px rgba(60, 64, 67, 0.15);\n",
              "        fill: #174EA6;\n",
              "      }\n",
              "\n",
              "      [theme=dark] .colab-df-generate {\n",
              "        background-color: #3B4455;\n",
              "        fill: #D2E3FC;\n",
              "      }\n",
              "\n",
              "      [theme=dark] .colab-df-generate:hover {\n",
              "        background-color: #434B5C;\n",
              "        box-shadow: 0px 1px 3px 1px rgba(0, 0, 0, 0.15);\n",
              "        filter: drop-shadow(0px 1px 2px rgba(0, 0, 0, 0.3));\n",
              "        fill: #FFFFFF;\n",
              "      }\n",
              "    </style>\n",
              "    <button class=\"colab-df-generate\" onclick=\"generateWithVariable('df')\"\n",
              "            title=\"Generate code using this dataframe.\"\n",
              "            style=\"display:none;\">\n",
              "\n",
              "  <svg xmlns=\"http://www.w3.org/2000/svg\" height=\"24px\"viewBox=\"0 0 24 24\"\n",
              "       width=\"24px\">\n",
              "    <path d=\"M7,19H8.4L18.45,9,17,7.55,7,17.6ZM5,21V16.75L18.45,3.32a2,2,0,0,1,2.83,0l1.4,1.43a1.91,1.91,0,0,1,.58,1.4,1.91,1.91,0,0,1-.58,1.4L9.25,21ZM18.45,9,17,7.55Zm-12,3A5.31,5.31,0,0,0,4.9,8.1,5.31,5.31,0,0,0,1,6.5,5.31,5.31,0,0,0,4.9,4.9,5.31,5.31,0,0,0,6.5,1,5.31,5.31,0,0,0,8.1,4.9,5.31,5.31,0,0,0,12,6.5,5.46,5.46,0,0,0,6.5,12Z\"/>\n",
              "  </svg>\n",
              "    </button>\n",
              "    <script>\n",
              "      (() => {\n",
              "      const buttonEl =\n",
              "        document.querySelector('#id_1eea4986-d372-4fdf-bbf0-51552ede09a9 button.colab-df-generate');\n",
              "      buttonEl.style.display =\n",
              "        google.colab.kernel.accessAllowed ? 'block' : 'none';\n",
              "\n",
              "      buttonEl.onclick = () => {\n",
              "        google.colab.notebook.generateWithVariable('df');\n",
              "      }\n",
              "      })();\n",
              "    </script>\n",
              "  </div>\n",
              "\n",
              "    </div>\n",
              "  </div>\n"
            ],
            "application/vnd.google.colaboratory.intrinsic+json": {
              "type": "dataframe",
              "variable_name": "df",
              "summary": "{\n  \"name\": \"df\",\n  \"rows\": 10000,\n  \"fields\": [\n    {\n      \"column\": \"review\",\n      \"properties\": {\n        \"dtype\": \"string\",\n        \"num_unique_values\": 9978,\n        \"samples\": [\n          \"reason gave movie reason felt compelled finish basically wanted see going aliens ufos anything suggested title movie cover movie beginning movie disappointed see religion thrown mix way could used movies advantage felt instead movie trying send subliminal messages finally big casts wardrobe became distracted number different extremely bright shirts character every new scene began wonder movie wasnt really supposed classified poor comedybr br toe thumbs\",\n          \"movies storyline pat quaint two women travel middle east discover unfortunately looking movie middle east central asia absolutely terriblebr br producers film either research unbelievably lazy filming begin glaringly incorrect nuristanis known thirties indeed since forceful conversion abdulrahman shah aghnaistan nomads fact nomads since aryan invasions central asia three milenia agobr br second city filmed tehran tehran understandable however geography area around city could strikingly different city tehran surrounded side large mountain range predominates cities viewsbr br third persian despite fact spoken iran afghanistan never heard movie native speakers speak german speak arabic persian guards border fact say hadha rujal man mard nist would persian also love song indian princess one main characters obviously spanish talking garden one main characters says quran uses words ferdos jehaan makes reference drugs afterwords words certainly never appear quran persian paradise indeed ferdos paradise distant cognates languages world respectively though jehaan admittedly close jehennan hell arabic encounter nomads desert language spoken also arabic despite fact native speakers arabic iran afghanistan use primarily religious use education timebr br stopped iran reach afghan border people encounter wholly unlike iranian group tents typically bedouin carpets decorating walls high profile iran also extremely uncommon people wear turbans unless cleric language spoken clearly arabic initial greeting ahlan wa sahlan reach kabul desert find sandy totally unlike rock dirt found arid parts hindu kush mountain range absence light green scrub covers ground summer spring area also wholly consumed extreme mountains mountain range name indian killers difficult limiting groundbr br short story line thing movie holds water still weak common place lacks real draw merely tale two women trying learning get nuristan however even stillborn real development felt leaving characters end beginning nothing changed except world war two broken loose short really bad movie would rated one star except good footage bedouin deserts levant even misnamed\",\n          \"paranoid scientist creates wolfman transfusing wolf blood meek quiet large gardener order prove hypothesis gardener begins nightly rampages scientist tries use reclaim credentials rebuffed former colleagues tampering nature island dr moreau frankenstein various wolfman films blended together terribly dated goofy morality playbr br though subject matter pedantic unoriginal best film poorly made interesting watch representative horror film making time like mad scientist films weak warning fooling around mother nature doesnt power intellectual challenges frankenstein doesnt ever extend reach anyway acting passable cinematography film moves along entertaining clip dialog utterly ludicrous hey movie b minus one also nice shots wolf smattering humor tossedin prevent film appearing take seriously always plus genre\"\n        ],\n        \"semantic_type\": \"\",\n        \"description\": \"\"\n      }\n    },\n    {\n      \"column\": \"sentiment\",\n      \"properties\": {\n        \"dtype\": \"category\",\n        \"num_unique_values\": 2,\n        \"samples\": [\n          \"negative\",\n          \"positive\"\n        ],\n        \"semantic_type\": \"\",\n        \"description\": \"\"\n      }\n    }\n  ]\n}"
            }
          },
          "metadata": {},
          "execution_count": 10
        }
      ]
    },
    {
      "cell_type": "code",
      "source": [
        "from sklearn.model_selection import train_test_split\n",
        "\n",
        "X = df['review']  # Características\n",
        "y = df['sentiment']  # Etiquetas (positivo/negativo)\n",
        "\n",
        "# Dividir en entrenamiento y prueba\n",
        "X_train, X_test, y_train, y_test = train_test_split(X, y, test_size=0.3, random_state=42)\n",
        "\n",
        "print(f\"Training Data: {len(X_train)} reviews\")\n",
        "print(f\"Testing Data: {len(X_test)} reviews\")"
      ],
      "metadata": {
        "colab": {
          "base_uri": "https://localhost:8080/"
        },
        "id": "MIZwqec0wm55",
        "outputId": "1c17b627-c78c-44c8-a0b1-fce28df4bb0c"
      },
      "execution_count": 11,
      "outputs": [
        {
          "output_type": "stream",
          "name": "stdout",
          "text": [
            "Training Data: 7000 reviews\n",
            "Testing Data: 3000 reviews\n"
          ]
        }
      ]
    },
    {
      "cell_type": "markdown",
      "source": [
        "# 5. Implementación del Modelo 1: TfidfVectorizer + Naive Bayes"
      ],
      "metadata": {
        "id": "NVfXrx0tw75-"
      }
    },
    {
      "cell_type": "code",
      "source": [
        "from sklearn.feature_extraction.text import TfidfVectorizer\n",
        "from sklearn.naive_bayes import MultinomialNB\n",
        "from sklearn.pipeline import make_pipeline\n",
        "from sklearn.metrics import classification_report\n",
        "\n",
        "# Crear el pipeline para el modelo\n",
        "modelo_1 = make_pipeline(TfidfVectorizer(), MultinomialNB())\n",
        "\n",
        "# Entrenar el modelo\n",
        "modelo_1.fit(X_train, y_train)\n",
        "\n",
        "# Predecir en el conjunto de prueba\n",
        "y_pred_1 = modelo_1.predict(X_test)\n",
        "\n",
        "# Evaluar el modelo\n",
        "print(classification_report(y_test, y_pred_1))"
      ],
      "metadata": {
        "colab": {
          "base_uri": "https://localhost:8080/"
        },
        "id": "BpHUE-IFw9uP",
        "outputId": "0d263f2f-e303-4c8f-c8e6-0991f3e86c6f"
      },
      "execution_count": 12,
      "outputs": [
        {
          "output_type": "stream",
          "name": "stdout",
          "text": [
            "              precision    recall  f1-score   support\n",
            "\n",
            "    negative       0.83      0.88      0.85      1484\n",
            "    positive       0.87      0.82      0.85      1516\n",
            "\n",
            "    accuracy                           0.85      3000\n",
            "   macro avg       0.85      0.85      0.85      3000\n",
            "weighted avg       0.85      0.85      0.85      3000\n",
            "\n"
          ]
        }
      ]
    },
    {
      "cell_type": "markdown",
      "source": [
        "# 6. Implementación del Modelo 2: CountVectorizer + SVM"
      ],
      "metadata": {
        "id": "AGMrE-kSxFGl"
      }
    },
    {
      "cell_type": "code",
      "source": [
        "from sklearn.feature_extraction.text import CountVectorizer\n",
        "from sklearn.svm import SVC\n",
        "\n",
        "# Crear el pipeline para el modelo\n",
        "modelo_2 = make_pipeline(CountVectorizer(), SVC())\n",
        "\n",
        "# Entrenar el modelo\n",
        "modelo_2.fit(X_train, y_train)\n",
        "\n",
        "# Predecir en el conjunto de prueba\n",
        "y_pred_2 = modelo_2.predict(X_test)\n",
        "\n",
        "# Evaluar el modelo\n",
        "print(classification_report(y_test, y_pred_2))"
      ],
      "metadata": {
        "colab": {
          "base_uri": "https://localhost:8080/"
        },
        "id": "Nk6_49JgxEW2",
        "outputId": "896b0f0e-3d8b-4666-fb56-a67c5a1e1828"
      },
      "execution_count": 13,
      "outputs": [
        {
          "output_type": "stream",
          "name": "stdout",
          "text": [
            "              precision    recall  f1-score   support\n",
            "\n",
            "    negative       0.87      0.79      0.83      1484\n",
            "    positive       0.81      0.89      0.85      1516\n",
            "\n",
            "    accuracy                           0.84      3000\n",
            "   macro avg       0.84      0.84      0.84      3000\n",
            "weighted avg       0.84      0.84      0.84      3000\n",
            "\n"
          ]
        }
      ]
    },
    {
      "cell_type": "markdown",
      "source": [
        "# 7. Comparar los resultados"
      ],
      "metadata": {
        "id": "sZefn7mWxNkq"
      }
    },
    {
      "cell_type": "code",
      "source": [
        "# Comparar precisión\n",
        "print(\"Modelo 1 - Naive Bayes (Tfidf):\")\n",
        "print(classification_report(y_test, y_pred_1))\n",
        "\n",
        "print(\"Modelo 2 - SVM (CountVectorizer):\")\n",
        "print(classification_report(y_test, y_pred_2))"
      ],
      "metadata": {
        "colab": {
          "base_uri": "https://localhost:8080/"
        },
        "id": "eLRTl9JZxPjx",
        "outputId": "f6b6f951-2fc8-4b14-8f2f-b4454104f2b4"
      },
      "execution_count": 14,
      "outputs": [
        {
          "output_type": "stream",
          "name": "stdout",
          "text": [
            "Modelo 1 - Naive Bayes (Tfidf):\n",
            "              precision    recall  f1-score   support\n",
            "\n",
            "    negative       0.83      0.88      0.85      1484\n",
            "    positive       0.87      0.82      0.85      1516\n",
            "\n",
            "    accuracy                           0.85      3000\n",
            "   macro avg       0.85      0.85      0.85      3000\n",
            "weighted avg       0.85      0.85      0.85      3000\n",
            "\n",
            "Modelo 2 - SVM (CountVectorizer):\n",
            "              precision    recall  f1-score   support\n",
            "\n",
            "    negative       0.87      0.79      0.83      1484\n",
            "    positive       0.81      0.89      0.85      1516\n",
            "\n",
            "    accuracy                           0.84      3000\n",
            "   macro avg       0.84      0.84      0.84      3000\n",
            "weighted avg       0.84      0.84      0.84      3000\n",
            "\n"
          ]
        }
      ]
    },
    {
      "cell_type": "markdown",
      "source": [
        "# 8. Predicciones con nuevos datos"
      ],
      "metadata": {
        "id": "8QVafmKb3_Hi"
      }
    },
    {
      "cell_type": "code",
      "source": [
        "# Preparar nuevas reseñas de películas\n",
        "nuevas_reseñas = [\n",
        "    \"This movie was amazing, I loved it!\",\n",
        "    \"I didn't like it at all, the plot was very predictable.\",\n",
        "    \"Great acting, but the story could have been better.\",\n",
        "    \"Very boring, wouldn't recommend it to anyone.\"\n",
        "]\n",
        "\n",
        "# Preprocesar las nuevas reseñas usando la función de limpieza y stopwords en inglés\n",
        "# Reutilizamos las funciones de limpieza y eliminación de stopwords que usaste previamente\n",
        "nuevas_reseñas_limpias = [limpiar_texto(review) for review in nuevas_reseñas]\n",
        "nuevas_reseñas_limpias = [eliminar_stopwords(review, language='english') for review in nuevas_reseñas_limpias]\n",
        "\n",
        "# Predicción del sentimiento usando ambos modelos\n",
        "\n",
        "# Predicción usando el Modelo 1 (Tfidf + Naive Bayes)\n",
        "sentimiento_predicciones_modelo_1 = modelo_1.predict(nuevas_reseñas_limpias)\n",
        "\n",
        "# Predicción usando el Modelo 2 (CountVectorizer + SVM)\n",
        "sentimiento_predicciones_modelo_2 = modelo_2.predict(nuevas_reseñas_limpias)\n",
        "\n",
        "# Paso 4: Comparar resultados\n",
        "for review, sentiment_1, sentiment_2 in zip(nuevas_reseñas, sentimiento_predicciones_modelo_1, sentimiento_predicciones_modelo_2):\n",
        "    print(f\"Review: '{review}'\")\n",
        "    print(f\"Predicted Sentiment (Naive Bayes with Tfidf): {'Positive' if sentiment_1 == 'positive' else 'Negative'}\")\n",
        "    print(f\"Predicted Sentiment (SVM with CountVectorizer): {'Positive' if sentiment_2 == 'positive' else 'Negative'}\")\n",
        "    print(\"-\" * 80)"
      ],
      "metadata": {
        "colab": {
          "base_uri": "https://localhost:8080/"
        },
        "id": "z-Vh9_7_yhlu",
        "outputId": "359eef6e-a136-4a97-8706-38b1e8a7959d"
      },
      "execution_count": 15,
      "outputs": [
        {
          "output_type": "stream",
          "name": "stdout",
          "text": [
            "Review: 'This movie was amazing, I loved it!'\n",
            "Predicted Sentiment (Naive Bayes with Tfidf): Positive\n",
            "Predicted Sentiment (SVM with CountVectorizer): Positive\n",
            "--------------------------------------------------------------------------------\n",
            "Review: 'I didn't like it at all, the plot was very predictable.'\n",
            "Predicted Sentiment (Naive Bayes with Tfidf): Negative\n",
            "Predicted Sentiment (SVM with CountVectorizer): Negative\n",
            "--------------------------------------------------------------------------------\n",
            "Review: 'Great acting, but the story could have been better.'\n",
            "Predicted Sentiment (Naive Bayes with Tfidf): Negative\n",
            "Predicted Sentiment (SVM with CountVectorizer): Positive\n",
            "--------------------------------------------------------------------------------\n",
            "Review: 'Very boring, wouldn't recommend it to anyone.'\n",
            "Predicted Sentiment (Naive Bayes with Tfidf): Negative\n",
            "Predicted Sentiment (SVM with CountVectorizer): Negative\n",
            "--------------------------------------------------------------------------------\n"
          ]
        }
      ]
    },
    {
      "cell_type": "markdown",
      "source": [
        "# 9. Mejoras en los modelos"
      ],
      "metadata": {
        "id": "aTBbtxVC5k4S"
      }
    },
    {
      "cell_type": "code",
      "source": [
        "df=df_base.copy() # volvemos a cargar df_base para poder aplicar nuevos cambios\n",
        "# Función de limpieza para un solo texto\n",
        "# Descargar recursos de NLTK (solo la primera vez)\n",
        "nltk.download('stopwords')\n",
        "\n",
        "# Diccionario para reemplazar tildes\n",
        "tildes = str.maketrans('áéíóúü', 'aeiouu')\n",
        "\n",
        "# Función de limpieza mejorada para un solo texto\n",
        "def limpiar_texto(text):\n",
        "    # Convertir a minúsculas, eliminar saltos de línea, URLs, menciones, hashtags y puntuación\n",
        "    text = re.sub(r'http\\S+|@\\S+|#\\S+|[^\\w\\s]', '', text.lower())\n",
        "    # Eliminar números\n",
        "    text = re.sub(r'\\d+', '', text)\n",
        "    # Reemplazar tildes\n",
        "    text = text.translate(tildes)\n",
        "    # Eliminar espacios extra\n",
        "    return text.strip()\n",
        "\n",
        "# Eliminar stopwords (en español o inglés según se necesite)\n",
        "def eliminar_stopwords(text, language='english'):\n",
        "    stop_words = set(stopwords.words(language))\n",
        "    words = text.split()\n",
        "    cleaned_text = ' '.join([word for word in words if word not in stop_words])\n",
        "    return cleaned_text\n",
        "\n",
        "# Aplicar limpieza y eliminación de stopwords\n",
        "df[\"review\"] = df[\"review\"].apply(lambda x: eliminar_stopwords(limpiar_texto(x), language='english'))\n",
        "\n",
        "print(\"Dataset con texto limpio y sin stopwords...\")"
      ],
      "metadata": {
        "colab": {
          "base_uri": "https://localhost:8080/"
        },
        "id": "Ds9rGEhg5nI-",
        "outputId": "06e72a1d-579d-4dfc-8232-4bef759957b3"
      },
      "execution_count": 19,
      "outputs": [
        {
          "output_type": "stream",
          "name": "stderr",
          "text": [
            "[nltk_data] Downloading package stopwords to /root/nltk_data...\n",
            "[nltk_data]   Package stopwords is already up-to-date!\n"
          ]
        },
        {
          "output_type": "stream",
          "name": "stdout",
          "text": [
            "Dataset con texto limpio y sin stopwords...\n"
          ]
        }
      ]
    },
    {
      "cell_type": "code",
      "source": [
        "X = df[\"review\"]  # Textos\n",
        "y = df[\"sentiment\"]  # Etiquetas\n",
        "print(f\"Dataset listo: {df.shape} (filas, columnas)\")"
      ],
      "metadata": {
        "colab": {
          "base_uri": "https://localhost:8080/"
        },
        "id": "QBQzqTPP5844",
        "outputId": "7091eee0-35ac-4ecc-9849-7172f33644c3"
      },
      "execution_count": 20,
      "outputs": [
        {
          "output_type": "stream",
          "name": "stdout",
          "text": [
            "Dataset listo: (50000, 2) (filas, columnas)\n"
          ]
        }
      ]
    },
    {
      "source": [
        "from imblearn.over_sampling import SMOTE\n",
        "from sklearn.feature_extraction.text import CountVectorizer\n",
        "from sklearn.model_selection import train_test_split, cross_val_score\n",
        "from sklearn.naive_bayes import MultinomialNB\n",
        "from sklearn.utils.class_weight import compute_sample_weight\n",
        "from sklearn.metrics import classification_report, roc_curve, roc_auc_score, confusion_matrix\n",
        "import matplotlib.pyplot as plt\n",
        "import time\n",
        "\n",
        "# Paso 1: Vectorización CountVectorizer con ajustes: aumentamos max_features e introducimos ngram_range y min_df\n",
        "vectorizer = CountVectorizer(max_features=10000, ngram_range=(1, 2), min_df=5)\n",
        "X_vec = vectorizer.fit_transform(X)  # Transformar textos a matriz de conteos absolutos\n",
        "print(f\"Matriz CountVectorizer creada: {X_vec.shape} (documentos, características)\")\n",
        "\n",
        "# Paso 2: Aplicar SMOTE para sobremuestreo de la clase minoritaria\n",
        "smote = SMOTE(random_state=42)\n",
        "X_vec_smote, y_smote = smote.fit_resample(X_vec, y)\n",
        "print(f\"Dataset después de SMOTE: {X_vec_smote.shape[0]} instancias\")\n",
        "\n",
        "# Paso 3: Dividir datos en entrenamiento y prueba después de SMOTE\n",
        "X_train, X_test, y_train, y_test = train_test_split(X_vec_smote, y_smote, test_size=0.2, random_state=42)\n",
        "\n",
        "# Paso 4: Calcular pesos de las muestras (mayor peso a la clase 0)\n",
        "sample_weights = compute_sample_weight(class_weight='balanced', y=y_train)\n",
        "\n",
        "# Paso 5: Entrenar modelo Naive Bayes con sample_weight\n",
        "start_time = time.time()\n",
        "modelCountVectorizer_MultinomialNB = MultinomialNB()\n",
        "modelCountVectorizer_MultinomialNB.fit(X_train, y_train, sample_weight=sample_weights)\n",
        "print(\"Modelo Naive Bayes entrenado\")\n",
        "\n",
        "# Paso 6: Hacer predicciones de probabilidades\n",
        "y_prob = modelCountVectorizer_MultinomialNB.predict_proba(X_test)[:, 1]\n",
        "\n",
        "# Paso 7: Ajustar el umbral de decisión (por ejemplo, a 0.6)\n",
        "threshold = 0.6\n",
        "y_pred_adjusted = (y_prob >= threshold).astype(int)\n",
        "\n",
        "# Convertir las predicciones de 0/1 a 'negative'/'positive'\n",
        "y_pred_adjusted = ['positive' if pred == 1 else 'negative' for pred in y_pred_adjusted]\n",
        "\n",
        "# Paso 8: Evaluar el rendimiento con el umbral ajustado\n",
        "print(\"Evaluación con umbral ajustado:\")\n",
        "print(classification_report(y_test, y_pred_adjusted))\n",
        "\n",
        "# Paso 9: Validación cruzada (opcional, para evaluar el modelo)\n",
        "cross_val_scores = cross_val_score(modelCountVectorizer_MultinomialNB, X_vec_smote, y_smote, cv=5, scoring='accuracy')\n",
        "print(f\"Precisión media con validación cruzada: {cross_val_scores.mean():.4f}\")\n",
        "\n",
        "# Paso 10: Curva ROC y AUC para visualizar el rendimiento del modelo\n",
        "# Convertir las etiquetas verdaderas a valores numéricos\n",
        "y_test_numeric = [1 if label == 'positive' else 0 for label in y_test]\n",
        "\n",
        "# Convertir las predicciones ajustadas a valores numéricos\n",
        "y_pred_adjusted_numeric = [1 if label == 'positive' else 0 for label in y_pred_adjusted]\n",
        "\n",
        "# Calcular la curva ROC y AUC\n",
        "fpr, tpr, thresholds_roc = roc_curve(y_test_numeric, y_prob)\n",
        "auc = roc_auc_score(y_test_numeric, y_prob)\n",
        "\n",
        "# Mostrar la curva ROC\n",
        "plt.plot(fpr, tpr, label=f'ROC curve (AUC = {auc:.2f})')\n",
        "plt.plot([0, 1], [0, 1], linestyle='--')\n",
        "plt.xlabel('False Positive Rate')\n",
        "plt.ylabel('True Positive Rate')\n",
        "plt.title('Receiver Operating Characteristic (ROC) Curve')\n",
        "plt.legend(loc='lower right')\n",
        "plt.show()\n",
        "\n",
        "# Mostrar el AUC\n",
        "print(f\"AUC (Área bajo la curva ROC): {auc:.2f}\")"
      ],
      "cell_type": "code",
      "metadata": {
        "colab": {
          "base_uri": "https://localhost:8080/",
          "height": 749
        },
        "id": "_6G6K3nH6b5S",
        "outputId": "7bba688a-46ea-41fe-d9a3-cff0066b0eb4"
      },
      "execution_count": 21,
      "outputs": [
        {
          "output_type": "stream",
          "name": "stdout",
          "text": [
            "Matriz CountVectorizer creada: (50000, 10000) (documentos, características)\n",
            "Dataset después de SMOTE: 50000 instancias\n",
            "Modelo Naive Bayes entrenado\n",
            "Evaluación con umbral ajustado:\n",
            "              precision    recall  f1-score   support\n",
            "\n",
            "    negative       0.85      0.86      0.86      4961\n",
            "    positive       0.86      0.85      0.86      5039\n",
            "\n",
            "    accuracy                           0.86     10000\n",
            "   macro avg       0.86      0.86      0.86     10000\n",
            "weighted avg       0.86      0.86      0.86     10000\n",
            "\n",
            "Precisión media con validación cruzada: 0.8573\n"
          ]
        },
        {
          "output_type": "display_data",
          "data": {
            "text/plain": [
              "<Figure size 640x480 with 1 Axes>"
            ],
            "image/png": "[encoded data removed]"
          },
          "metadata": {}
        },
        {
          "output_type": "stream",
          "name": "stdout",
          "text": [
            "AUC (Área bajo la curva ROC): 0.92\n"
          ]
        }
      ]
    },
    {
      "cell_type": "code",
      "source": [
        "# Preparar nuevas reseñas de películas\n",
        "nuevas_reseñas = [\n",
        "    \"This movie was amazing, I loved it!\",\n",
        "    \"I didn't like it at all, the plot was very predictable.\",\n",
        "    \"Great acting, but the story could have been better.\",\n",
        "    \"Very boring, wouldn't recommend it to anyone.\"\n",
        "]\n",
        "\n",
        "# Preprocesar las nuevas reseñas usando la función de limpieza y stopwords en inglés\n",
        "# Reutilizamos las funciones de limpieza y eliminación de stopwords que usaste previamente\n",
        "nuevas_reseñas_limpias = [limpiar_texto(review) for review in nuevas_reseñas]\n",
        "nuevas_reseñas_limpias = [eliminar_stopwords(review, language='english') for review in nuevas_reseñas_limpias]\n",
        "\n",
        "# Predicción del sentimiento usando ambos modelos\n",
        "\n",
        "# Predicción usando el Modelo 1 (Tfidf + Naive Bayes)\n",
        "sentimiento_predicciones_modelo_1 = modelo_1.predict(nuevas_reseñas_limpias)\n",
        "\n",
        "# Predicción usando el Modelo 2 (CountVectorizer + SVM)\n",
        "sentimiento_predicciones_modelo_2 = modelo_2.predict(nuevas_reseñas_limpias)\n",
        "\n",
        "# Predicción usando el Modelo 3 (Naive Bayes + CountVectorizer)\n",
        "sentimiento_predicciones_modelo_3 = modelCountVectorizer_MultinomialNB.predict(vectorizer.transform(nuevas_reseñas_limpias))\n",
        "\n",
        "# Paso 4: Comparar resultados\n",
        "for review, sentiment_1, sentiment_2, sentiment_3 in zip(nuevas_reseñas, sentimiento_predicciones_modelo_1, sentimiento_predicciones_modelo_2, sentimiento_predicciones_modelo_3):\n",
        "    print(f\"Review: '{review}'\")\n",
        "    print(f\"Predicted Sentiment (Naive Bayes with Tfidf): {'Positive' if sentiment_1 == 'positive' else 'Negative'}\")\n",
        "    print(f\"Predicted Sentiment (SVM with CountVectorizer): {'Positive' if sentiment_2 == 'positive' else 'Negative'}\")\n",
        "    print(f\"Predicted Sentiment (Naive Bayes with CountVectorizer): {'Positive' if sentiment_3 == 'positive' else 'Negative'}\")\n",
        "    print(\"-\" * 80)\n"
      ],
      "metadata": {
        "colab": {
          "base_uri": "https://localhost:8080/"
        },
        "id": "gtwI570vBIAC",
        "outputId": "0deeb9ea-8d7a-4e93-8832-e8875e22055c"
      },
      "execution_count": 31,
      "outputs": [
        {
          "output_type": "stream",
          "name": "stdout",
          "text": [
            "Review: 'This movie was amazing, I loved it!'\n",
            "Predicted Sentiment (Naive Bayes with Tfidf): Positive\n",
            "Predicted Sentiment (SVM with CountVectorizer): Positive\n",
            "Predicted Sentiment (Naive Bayes with CountVectorizer): Positive\n",
            "--------------------------------------------------------------------------------\n",
            "Review: 'I didn't like it at all, the plot was very predictable.'\n",
            "Predicted Sentiment (Naive Bayes with Tfidf): Negative\n",
            "Predicted Sentiment (SVM with CountVectorizer): Negative\n",
            "Predicted Sentiment (Naive Bayes with CountVectorizer): Negative\n",
            "--------------------------------------------------------------------------------\n",
            "Review: 'Great acting, but the story could have been better.'\n",
            "Predicted Sentiment (Naive Bayes with Tfidf): Negative\n",
            "Predicted Sentiment (SVM with CountVectorizer): Positive\n",
            "Predicted Sentiment (Naive Bayes with CountVectorizer): Positive\n",
            "--------------------------------------------------------------------------------\n",
            "Review: 'Very boring, wouldn't recommend it to anyone.'\n",
            "Predicted Sentiment (Naive Bayes with Tfidf): Negative\n",
            "Predicted Sentiment (SVM with CountVectorizer): Negative\n",
            "Predicted Sentiment (Naive Bayes with CountVectorizer): Negative\n",
            "--------------------------------------------------------------------------------\n"
          ]
        }
      ]
    },
    {
      "cell_type": "code",
      "source": [
        "pip install joblib"
      ],
      "metadata": {
        "colab": {
          "base_uri": "https://localhost:8080/"
        },
        "id": "NWep9YQM5jPV",
        "outputId": "22ffa4af-e503-4878-9702-542bd71e89e3"
      },
      "execution_count": 22,
      "outputs": [
        {
          "output_type": "stream",
          "name": "stdout",
          "text": [
            "Requirement already satisfied: joblib in /usr/local/lib/python3.11/dist-packages (1.4.2)\n"
          ]
        }
      ]
    },
    {
      "cell_type": "code",
      "source": [
        "import joblib\n",
        "\n",
        "# Guardar el modelo entrenado\n",
        "joblib.dump(modelCountVectorizer_MultinomialNB, './model_countvectorizer_nb.pkl')\n",
        "\n",
        "# Guardar el vectorizador\n",
        "joblib.dump(vectorizer, './vectorizer.pkl')\n",
        "\n",
        "print(\"Modelo y vectorizador guardados correctamente.\")"
      ],
      "metadata": {
        "colab": {
          "base_uri": "https://localhost:8080/"
        },
        "id": "LJtaS12W5gnx",
        "outputId": "29a98f15-fe6d-4d79-d535-acc370f6dc8d"
      },
      "execution_count": 24,
      "outputs": [
        {
          "output_type": "stream",
          "name": "stdout",
          "text": [
            "Modelo y vectorizador guardados correctamente.\n"
          ]
        }
      ]
    },
    {
      "cell_type": "code",
      "source": [
        "!python --version"
      ],
      "metadata": {
        "colab": {
          "base_uri": "https://localhost:8080/"
        },
        "id": "S5HRjRuC-uzU",
        "outputId": "2e92cefe-34ab-458a-d89b-4b413b84238d"
      },
      "execution_count": 26,
      "outputs": [
        {
          "output_type": "stream",
          "name": "stdout",
          "text": [
            "Python 3.11.12\n"
          ]
        }
      ]
    }
  ]
}